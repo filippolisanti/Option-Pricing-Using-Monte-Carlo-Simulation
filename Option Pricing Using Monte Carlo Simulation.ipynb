{
 "cells": [
  {
   "cell_type": "markdown",
   "metadata": {},
   "source": [
    "# COMS W1002 Computing in Economics  \n",
    "## Project created by Professor Karl Sigman\n",
    "## Option Pricing Using Monte Carlo Simulation"
   ]
  },
  {
   "cell_type": "markdown",
   "metadata": {},
   "source": [
    "__Problem 1:__ For the values of $p=0.5$ and $p=0.75$ obtain an estimate of $p$ by using Monte Carlo Simulation with $n=100, n=1000, n=10,000$ You will generate $n$ _iid_ Bernoulli $(p)$ random variables $B_1, ..., B_n$ and use as the estimate $$ \\hat{p}= \\frac{1}{n}\\sum_{i=1}^{n}B_i $$ \n",
    "This is to show you (convince you) how accurate the Monte Carlo method can be, and how the Strong Law of Large Numbers (SLLN) works in practice."
   ]
  },
  {
   "cell_type": "code",
   "execution_count": 7,
   "metadata": {
    "tags": []
   },
   "outputs": [
    {
     "name": "stdout",
     "output_type": "stream",
     "text": [
      "\n",
      "Estimates for p = 0.5:\n",
      "Estimate with n = 100: 0.53\n",
      "Estimate with n = 1000: 0.494\n",
      "Estimate with n = 10000: 0.4965\n",
      "\n",
      "Estimates for p = 0.75:\n",
      "Estimate with n = 100: 0.79\n",
      "Estimate with n = 1000: 0.769\n",
      "Estimate with n = 10000: 0.7507\n"
     ]
    }
   ],
   "source": [
    "import numpy as np\n",
    "\n",
    "def monte_carlo_estimate(p, n):\n",
    "    \"\"\"Estimate the probability p using Monte Carlo simulation.\"\"\"\n",
    "    bernoulli_trials = np.random.binomial(1, p, n)\n",
    "    p_estimate = np.mean(bernoulli_trials)\n",
    "    return p_estimate\n",
    "\n",
    "# Parameters\n",
    "probabilities = [0.5, 0.75]\n",
    "n_values = [100, 1000, 10000]\n",
    "\n",
    "# Simulation\n",
    "for p in probabilities:\n",
    "    print(f\"\\nEstimates for p = {p}:\")\n",
    "    for n in n_values:\n",
    "        estimate = monte_carlo_estimate(p, n)\n",
    "        print(f\"Estimate with n = {n}: {estimate}\")\n"
   ]
  },
  {
   "cell_type": "markdown",
   "metadata": {},
   "source": [
    "__Problem 2:__ Recall the formula for computing the price $C_0$ of an option (derivative of the BLM stock prices) That yields a payoff at time $T$, denote by $C_T$:\n",
    "$$ C_0 = \\frac{1}{(1+r)^T}E^*(C_T), $$  \n",
    "\n",
    "where $*$ refers to the fact that we must use the value $p^*$ instead of the original (real) $P$ for the up/down probability of the BLM. (The real value of $P$ is not needed for pricing.) Also recall that for $C_T = (S_T - K)^+$, the European call option, the expected value, $E^*(S_T-K)^+$ can be computed explicitly yielding the famous Black-Scholes-Merton option pricing formula:  \n",
    "$$ C_0 = \\frac{1}{(1+r)^T}\\sum_{k=0}^{T} \\left( \\begin{array}{c}\n",
    "T \\\\ k  \\end{array} \\right )(p^*)^k(1-p^*)^{T-k}(u^k d^{T-k}S_0-K)^+ . $$  \n",
    "\n",
    "You are to use this formula to exactly obtain the price on the one hand, and then use Monte Carlo simulation on the other hand to compare and thus see how accurate the Monte Carlo method can be. \n",
    "\n",
    "Here are the parameters to use: $T = 10, r = 0.05, u = 1.15, d= 1.01, S_0 = 50, K = 70$. Recall that \n",
    "$$ p^* = \\frac{1+r-d}{u-d} . $$  \n",
    "\n",
    "For the Monte Carlo, use $n=100, n=1000, n=10,000$ _iid_ copies of $C_T$ (for averaging) to see how it gets more accurate as $n$ increases."
   ]
  },
  {
   "cell_type": "code",
   "execution_count": 9,
   "metadata": {
    "tags": []
   },
   "outputs": [
    {
     "name": "stdout",
     "output_type": "stream",
     "text": [
      "Black-Scholes-Merton Price: 7.847876394135765\n",
      "Monte Carlo Price with n = 100: 7.842380445854078\n",
      "Monte Carlo Price with n = 1000: 8.092444581732984\n",
      "Monte Carlo Price with n = 10000: 7.700691244022017\n"
     ]
    }
   ],
   "source": [
    "import numpy as np\n",
    "from scipy.stats import binom\n",
    "\n",
    "# Given parameters\n",
    "T, r, u, d, S0, K = 10, 0.05, 1.15, 1.01, 50, 70\n",
    "p_star = (1 + r - d) / (u - d)\n",
    "\n",
    "# Black-Scholes-Merton Formula\n",
    "def black_scholes_merton(T, r, p_star, u, d, S0, K):\n",
    "    discounted_payoffs = [\n",
    "        binom.pmf(k, T, p_star) * max(u**k * d**(T-k) * S0 - K, 0)\n",
    "        for k in range(T+1)\n",
    "    ]\n",
    "    C0 = np.exp(-r * T) * sum(discounted_payoffs)\n",
    "    return C0\n",
    "\n",
    "# Monte Carlo Simulation\n",
    "def monte_carlo_simulation(T, r, u, d, S0, K, n):\n",
    "    payoffs = []\n",
    "    for _ in range(n):\n",
    "        ST = S0\n",
    "        for _ in range(T):\n",
    "            ST *= u if np.random.rand() < p_star else d\n",
    "        payoffs.append(max(ST - K, 0))\n",
    "    C0 = np.exp(-r * T) * np.mean(payoffs)\n",
    "    return C0\n",
    "\n",
    "# Calculating option price using Black-Scholes-Merton formula\n",
    "bsm_price = black_scholes_merton(T, r, p_star, u, d, S0, K)\n",
    "print(f\"Black-Scholes-Merton Price: {bsm_price}\")\n",
    "\n",
    "# Monte Carlo simulation for different n values\n",
    "for n in [100, 1000, 10000]:\n",
    "    mc_price = monte_carlo_simulation(T, r, u, d, S0, K, n)\n",
    "    print(f\"Monte Carlo Price with n = {n}: {mc_price}\")"
   ]
  },
  {
   "cell_type": "markdown",
   "metadata": {},
   "source": [
    "__Problem 3__: With the same parameters as in Problem 2, price the _Asian call option:_ The payoff $C_T$ at atime $T$ is based on the average value of the stock over the $T$ time units:\n",
    "$$ C_T = \\left( \\frac{1}{T} \\sum_{i=1}^{T} S_i-K \\right)^+ $$  \n",
    "\n",
    "Use $n=100, n=1000, n=10,000$ _iid_ copies of $C_T$ (for averaging)."
   ]
  },
  {
   "cell_type": "code",
   "execution_count": 10,
   "metadata": {
    "tags": []
   },
   "outputs": [
    {
     "name": "stdout",
     "output_type": "stream",
     "text": [
      "Asian Call Option Price with n = 100: 1.3189974755473066\n",
      "Asian Call Option Price with n = 1000: 1.1443678121825653\n",
      "Asian Call Option Price with n = 10000: 1.090224142359929\n"
     ]
    }
   ],
   "source": [
    "import numpy as np\n",
    "\n",
    "# Given parameters\n",
    "T, r, u, d, S0, K = 10, 0.05, 1.15, 1.01, 50, 70\n",
    "p_star = (1 + r - d) / (u - d)\n",
    "\n",
    "# Monte Carlo Simulation for Asian Call Option\n",
    "def monte_carlo_asian_call(T, r, u, d, S0, K, n):\n",
    "    payoffs = []\n",
    "    for _ in range(n):\n",
    "        stock_prices = [S0]\n",
    "        # Loop runs T+1 times to generate T intervals (excluding the initial price)\n",
    "        for _ in range(1, T + 1):\n",
    "            stock_prices.append(stock_prices[-1] * (u if np.random.rand() < p_star else d))\n",
    "        # Calculate average excluding the initial stock price S0\n",
    "        average_stock_price = np.mean(stock_prices[1:])\n",
    "        payoffs.append(max(average_stock_price - K, 0))\n",
    "    C0 = np.exp(-r * T) * np.mean(payoffs)\n",
    "    return C0\n",
    "\n",
    "# Calculating Asian call option price for different n values\n",
    "for n in [100, 1000, 10000]:\n",
    "    asian_call_price = monte_carlo_asian_call(T, r, u, d, S0, K, n)\n",
    "    print(f\"Asian Call Option Price with n = {n}: {asian_call_price}\")\n"
   ]
  },
  {
   "cell_type": "markdown",
   "metadata": {},
   "source": [
    "__Problem 4__: With the same parameters as in Problem 2, but the additional parameters $n_1 = 4, n_2 =6,$ and $b=66$: price a _down and out barrier option_, that has payoff at time $T$ of  \n",
    "\n",
    "$$ C_T = (S_T -K)^+ I \\{ S_{n_1} \\geq b, S_{n_2} \\geq b \\}.$$ \n",
    "\n",
    "Use $n=100, n=1000, n=10,000$ _iid_ copies of $C_T$ (for averaging).\n",
    "\n",
    "In the above, recall that for any event $A$, $I\\{A\\}$ denotes the _indicator_ random variable defined by  \n",
    "$$ I\\{A\\} = \\left\\{ \\begin{array}{ll} 1 & \\mbox{if $A$ occurs,} \\\\ 0 & \\mbox{if $A$ does not occur.} \\end{array} \\right. $$\n",
    "\n",
    "  \n",
    "Here, $A = \\{S_{n_1} \\geq b, S_{n_2} \\geq b\\}$.\n"
   ]
  },
  {
   "cell_type": "code",
   "execution_count": 5,
   "metadata": {
    "tags": []
   },
   "outputs": [
    {
     "name": "stdout",
     "output_type": "stream",
     "text": [
      "Down-and-Out Barrier Option Price with n = 100: 5.495249197284891\n",
      "Down-and-Out Barrier Option Price with n = 1000: 4.5830537386624615\n",
      "Down-and-Out Barrier Option Price with n = 10000: 4.559527938286149\n"
     ]
    }
   ],
   "source": [
    "import numpy as np\n",
    "\n",
    "# Given parameters\n",
    "T, r, u, d, S0, K, n1, n2, b = 10, 0.05, 1.15, 1.01, 50, 70, 4, 6, 66\n",
    "\n",
    "# Monte Carlo Simulation for Down-and-Out Barrier Option\n",
    "def monte_carlo_barrier_option(T, r, u, d, S0, K, n1, n2, b, n):\n",
    "    payoffs = []\n",
    "    for _ in range(n):\n",
    "        stock_prices = [S0]\n",
    "        for t in range(1, T + 1):\n",
    "            stock_prices.append(stock_prices[-1] * (u if np.random.rand() < p_star else d))\n",
    "\n",
    "        # Check if the barrier condition is met\n",
    "        if stock_prices[n1] >= b and stock_prices[n2] >= b:\n",
    "            payoff = max(stock_prices[-1] - K, 0)\n",
    "        else:\n",
    "            payoff = 0\n",
    "        payoffs.append(payoff)\n",
    "\n",
    "    C0 = np.exp(-r * T) * np.mean(payoffs)\n",
    "    return C0\n",
    "\n",
    "# Calculating barrier option price for different n values\n",
    "for n in [100, 1000, 10000]:\n",
    "    barrier_option_price = monte_carlo_barrier_option(T, r, u, d, S0, K, n1, n2, b, n)\n",
    "    print(f\"Down-and-Out Barrier Option Price with n = {n}: {barrier_option_price}\")"
   ]
  },
  {
   "cell_type": "markdown",
   "metadata": {},
   "source": [
    "Sources: ChatGPT"
   ]
  }
 ],
 "metadata": {
  "kernelspec": {
   "display_name": "Python 3 (ipykernel)",
   "language": "python",
   "name": "python3"
  },
  "language_info": {
   "codemirror_mode": {
    "name": "ipython",
    "version": 3
   },
   "file_extension": ".py",
   "mimetype": "text/x-python",
   "name": "python",
   "nbconvert_exporter": "python",
   "pygments_lexer": "ipython3",
   "version": "3.12.3"
  }
 },
 "nbformat": 4,
 "nbformat_minor": 4
}
